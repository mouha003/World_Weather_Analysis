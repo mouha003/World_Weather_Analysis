{
 "cells": [
  {
   "cell_type": "code",
   "execution_count": 4,
   "source": [
    "# Import the dependencies\r\n",
    "import pandas as pd\r\n",
    "import matplotlib.pyplot as plt\r\n",
    "import numpy as np\r\n",
    "import timeit"
   ],
   "outputs": [],
   "metadata": {}
  },
  {
   "cell_type": "code",
   "execution_count": 5,
   "source": [
    "# Create a set of random latitude and longitude combinations.\r\n",
    "\r\n",
    "lats = np.random.uniform(low=-90.000, high=90.000, size=1500)\r\n",
    "lngs = np.random.uniform(low=-180.000, high=180.000, size=1500)\r\n",
    "lat_lngs = zip(lats, lngs)\r\n"
   ],
   "outputs": [],
   "metadata": {}
  },
  {
   "cell_type": "code",
   "execution_count": 6,
   "source": [
    "\r\n",
    "coordinates = list(lat_lngs)\r\n",
    "# coordinates"
   ],
   "outputs": [],
   "metadata": {}
  },
  {
   "cell_type": "code",
   "execution_count": 7,
   "source": [
    "from citipy import citipy\r\n",
    "\r\n",
    "city = citipy.nearest_city(44.8041, -93.1669)\r\n",
    "city\r\n",
    "\r\n",
    "city.city_name\r\n",
    "\r\n",
    "city.country_code"
   ],
   "outputs": [
    {
     "output_type": "execute_result",
     "data": {
      "text/plain": [
       "'us'"
      ]
     },
     "metadata": {},
     "execution_count": 7
    }
   ],
   "metadata": {}
  },
  {
   "cell_type": "code",
   "execution_count": 9,
   "source": [
    "# Create a list for holding the cities\r\n",
    "cities = []\r\n",
    "# Identify the nearest city for each latitude and longitude combination.\r\n",
    "\r\n",
    "for coordinate in coordinates:\r\n",
    "    # print(\"hellpo\")\r\n",
    "    city = citipy.nearest_city(coordinate[0], coordinate[1]).city_name\r\n",
    "    # print(city)\r\n",
    "    # If the city is unique  then we will ass it to the cities list\r\n",
    "    if city not in cities:\r\n",
    "        cities.append(city)\r\n",
    "\r\n",
    "# Print the city count to confirm suffficient count\r\n",
    "len(cities)"
   ],
   "outputs": [
    {
     "output_type": "execute_result",
     "data": {
      "text/plain": [
       "598"
      ]
     },
     "metadata": {},
     "execution_count": 9
    }
   ],
   "metadata": {}
  }
 ],
 "metadata": {
  "orig_nbformat": 4,
  "language_info": {
   "name": "python",
   "version": "3.8.8",
   "mimetype": "text/x-python",
   "codemirror_mode": {
    "name": "ipython",
    "version": 3
   },
   "pygments_lexer": "ipython3",
   "nbconvert_exporter": "python",
   "file_extension": ".py"
  },
  "kernelspec": {
   "name": "python3",
   "display_name": "Python 3.8.8 64-bit ('base': conda)"
  },
  "interpreter": {
   "hash": "7d8e7db1eb2779b3314233d0c2e5178b7f19d0d07a5c1befbcf69be60cc7dc69"
  }
 },
 "nbformat": 4,
 "nbformat_minor": 2
}