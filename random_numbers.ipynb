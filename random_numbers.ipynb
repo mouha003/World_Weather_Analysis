{
 "cells": [
  {
   "cell_type": "code",
   "execution_count": 13,
   "source": [
    "import random"
   ],
   "outputs": [],
   "metadata": {}
  },
  {
   "cell_type": "code",
   "execution_count": 14,
   "source": [
    "random.random()"
   ],
   "outputs": [
    {
     "output_type": "execute_result",
     "data": {
      "text/plain": [
       "0.348688345431988"
      ]
     },
     "metadata": {},
     "execution_count": 14
    }
   ],
   "metadata": {}
  },
  {
   "cell_type": "code",
   "execution_count": 24,
   "source": [
    "random.randint(-10,10)\r\n",
    "random.random()"
   ],
   "outputs": [
    {
     "output_type": "execute_result",
     "data": {
      "text/plain": [
       "0.5830511336723534"
      ]
     },
     "metadata": {},
     "execution_count": 24
    }
   ],
   "metadata": {}
  },
  {
   "cell_type": "code",
   "execution_count": 15,
   "source": [
    "random.randrange(-9,9,2)"
   ],
   "outputs": [
    {
     "output_type": "execute_result",
     "data": {
      "text/plain": [
       "3"
      ]
     },
     "metadata": {},
     "execution_count": 15
    }
   ],
   "metadata": {}
  },
  {
   "cell_type": "code",
   "execution_count": 16,
   "source": [
    "random.uniform(-10,10)"
   ],
   "outputs": [
    {
     "output_type": "execute_result",
     "data": {
      "text/plain": [
       "-3.2956861740589556"
      ]
     },
     "metadata": {},
     "execution_count": 16
    }
   ],
   "metadata": {}
  },
  {
   "cell_type": "code",
   "execution_count": 17,
   "source": [
    "random_number = random.randint(-90, 89) + random.random()\r\n",
    "random_number\r\n",
    "\r\n",
    "x = 1\r\n",
    "latitudes = []\r\n",
    "while x < 11:\r\n",
    "    random_lat = random.randint(-90, 89) + random.random()\r\n",
    "    latitudes.append(random_lat)\r\n",
    "    x += 1"
   ],
   "outputs": [],
   "metadata": {}
  },
  {
   "cell_type": "code",
   "execution_count": 18,
   "source": [
    "latitudes"
   ],
   "outputs": [
    {
     "output_type": "execute_result",
     "data": {
      "text/plain": [
       "[-82.27920432460242,\n",
       " 19.116240694121014,\n",
       " -53.056589206424036,\n",
       " -24.501163484073672,\n",
       " -40.76910479883228,\n",
       " -79.31599287786332,\n",
       " -72.93499698792,\n",
       " -62.32633070571054,\n",
       " -24.565203041181565,\n",
       " -65.79710076152715]"
      ]
     },
     "metadata": {},
     "execution_count": 18
    }
   ],
   "metadata": {}
  },
  {
   "cell_type": "code",
   "execution_count": 19,
   "source": [
    "# Import the NumPy module\r\n",
    "import numpy as np\r\n",
    "# Import timeit\r\n",
    "import timeit\r\n",
    "\r\n",
    "%timeit np.random.uniform(-90.000, 90.000, size=1500)"
   ],
   "outputs": [
    {
     "output_type": "stream",
     "name": "stdout",
     "text": [
      "15.3 µs ± 500 ns per loop (mean ± std. dev. of 7 runs, 100000 loops each)\n"
     ]
    }
   ],
   "metadata": {}
  },
  {
   "cell_type": "code",
   "execution_count": 20,
   "source": [
    "# def latitudes(size):\r\n",
    "#     latitudes = []\r\n",
    "#     x = 0\r\n",
    "#     while x < (size):\r\n",
    "#         random_lat = random.randint(-90, 90) + random.random()\r\n",
    "#         latitudes.append(random_lat)\r\n",
    "#         x += 1\r\n",
    "#     return latitudes\r\n",
    "\r\n",
    "# # Call the function with 1500\r\n",
    "# %timeit latitudes(1500)"
   ],
   "outputs": [],
   "metadata": {}
  },
  {
   "cell_type": "code",
   "execution_count": 11,
   "source": [
    "def latitudes(size):\r\n",
    "    latitudes = []\r\n",
    "    for i in range(size):\r\n",
    "        random_lat = random.randint(-90, 90) + random.random()\r\n",
    "        latitudes.append(random_lat)\r\n",
    "    return latitudes\r\n",
    "\r\n",
    "# Call the function with 1500\r\n",
    "%timeit latitudes(1500)"
   ],
   "outputs": [
    {
     "output_type": "stream",
     "name": "stdout",
     "text": [
      "1.76 ms ± 95.1 µs per loop (mean ± std. dev. of 7 runs, 1000 loops each)\n"
     ]
    }
   ],
   "metadata": {}
  },
  {
   "cell_type": "code",
   "execution_count": null,
   "source": [],
   "outputs": [],
   "metadata": {}
  },
  {
   "cell_type": "code",
   "execution_count": null,
   "source": [],
   "outputs": [],
   "metadata": {}
  }
 ],
 "metadata": {
  "orig_nbformat": 4,
  "language_info": {
   "name": "python",
   "version": "3.8.8",
   "mimetype": "text/x-python",
   "codemirror_mode": {
    "name": "ipython",
    "version": 3
   },
   "pygments_lexer": "ipython3",
   "nbconvert_exporter": "python",
   "file_extension": ".py"
  },
  "kernelspec": {
   "name": "python3",
   "display_name": "Python 3.8.8 64-bit ('base': conda)"
  },
  "interpreter": {
   "hash": "7d8e7db1eb2779b3314233d0c2e5178b7f19d0d07a5c1befbcf69be60cc7dc69"
  }
 },
 "nbformat": 4,
 "nbformat_minor": 2
}