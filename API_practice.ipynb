{
 "cells": [
  {
   "cell_type": "code",
   "execution_count": 13,
   "source": [
    "# Import the dependencies.\r\n",
    "# e9e834c1ee280555628ff1ec67d57f3a\r\n",
    "import pandas as pd\r\n",
    "import matplotlib.pyplot as plt\r\n",
    "import numpy as np\r\n",
    "\r\n",
    "# Create a practice set of random latitude and longitude combinations.\r\n",
    "x = [25.12903645, 25.92017388, 26.62509167, 59.98969384, 37.30571269]\r\n",
    "y = [-67.59741259, 11.09532135, 74.84233102, -96.89176677, -61.13376282]\r\n",
    "coordinates = zip(x, y)\r\n",
    "\r\n",
    "\r\n",
    "# Create a set of random latitude and longitude combinations.\r\n",
    "lats = np.random.uniform(low=-90.000, high=90.000, size=15)\r\n",
    "lngs = np.random.uniform(low=-180.000, high=180.000, size=15)\r\n",
    "lat_lngs = zip(lats, lngs)\r\n",
    "lat_lngs"
   ],
   "outputs": [
    {
     "output_type": "execute_result",
     "data": {
      "text/plain": [
       "<zip at 0x20a47f62880>"
      ]
     },
     "metadata": {},
     "execution_count": 13
    }
   ],
   "metadata": {}
  },
  {
   "cell_type": "code",
   "execution_count": 14,
   "source": [
    "for coordinate in coordinates:\r\n",
    "    print(coordinate[0], coordinate[1])\r\n",
    "    "
   ],
   "outputs": [
    {
     "output_type": "stream",
     "name": "stdout",
     "text": [
      "25.12903645 -67.59741259\n",
      "25.92017388 11.09532135\n",
      "26.62509167 74.84233102\n",
      "59.98969384 -96.89176677\n",
      "37.30571269 -61.13376282\n"
     ]
    }
   ],
   "metadata": {}
  },
  {
   "cell_type": "code",
   "execution_count": 19,
   "source": [
    "coordinates = list(lat_lngs)\r\n",
    "coordinates"
   ],
   "outputs": [
    {
     "output_type": "execute_result",
     "data": {
      "text/plain": [
       "[(49.85056386995464, -126.18116660064985),\n",
       " (-42.08764351607613, -35.53284561895018),\n",
       " (31.03845329506001, -66.24359769351445),\n",
       " (-76.1746055345692, 99.13816057842052),\n",
       " (84.40608485912526, 161.32264481453137),\n",
       " (-61.41131446196273, -10.937665066458294),\n",
       " (-82.08525527308062, 175.76246454785405),\n",
       " (3.2004171188157073, 5.745192332164436),\n",
       " (-75.78464500016055, 37.39492958923381),\n",
       " (38.562966016160345, 14.50297341098431),\n",
       " (53.12978225299199, -29.93989331221138),\n",
       " (-45.71508721772821, -67.18442819535075),\n",
       " (79.84363585671537, 109.55688138259325),\n",
       " (-62.148597509042915, -56.36067098283566),\n",
       " (-89.29764030489713, -69.87392905353754)]"
      ]
     },
     "metadata": {},
     "execution_count": 19
    }
   ],
   "metadata": {}
  },
  {
   "cell_type": "code",
   "execution_count": 16,
   "source": [
    "# Use the citipy module to determine city based on latitude and longitude.\r\n",
    "# from citipy import citipy\r\n",
    "\r\n",
    "# cities = []\r\n",
    "# for coordinate in coordinates:\r\n",
    "#     city = citipy.nearest_city(coordinates[0], coordinates[1]).city_name()\r\n",
    "#     print(city)\r\n",
    "\r\n",
    "#     if city not in cities:\r\n",
    "#         cities.append(city)\r\n",
    "# # Print the city count to confirm sufficient count.\r\n",
    "# len(cities)\r\n"
   ],
   "outputs": [],
   "metadata": {}
  },
  {
   "cell_type": "code",
   "execution_count": 24,
   "source": [
    "from citipy import citipy\r\n",
    "\r\n",
    "cities = []\r\n",
    "for coordinate in coordinates:\r\n",
    "    # print(coordinate[0], coordinate[1])\r\n",
    "    city = citipy.nearest_city(coordinate[0], coordinate[1]).city_name\r\n",
    "    if city not in cities:\r\n",
    "        cities.append(city)\r\n",
    "# Print the city count to confirm sufficient count.\r\n",
    "len(cities)"
   ],
   "outputs": [
    {
     "output_type": "execute_result",
     "data": {
      "text/plain": [
       "14"
      ]
     },
     "metadata": {},
     "execution_count": 24
    }
   ],
   "metadata": {}
  },
  {
   "cell_type": "code",
   "execution_count": null,
   "source": [],
   "outputs": [],
   "metadata": {}
  }
 ],
 "metadata": {
  "orig_nbformat": 4,
  "language_info": {
   "name": "python",
   "version": "3.8.8",
   "mimetype": "text/x-python",
   "codemirror_mode": {
    "name": "ipython",
    "version": 3
   },
   "pygments_lexer": "ipython3",
   "nbconvert_exporter": "python",
   "file_extension": ".py"
  },
  "kernelspec": {
   "name": "python3",
   "display_name": "Python 3.8.8 64-bit ('base': conda)"
  },
  "interpreter": {
   "hash": "7d8e7db1eb2779b3314233d0c2e5178b7f19d0d07a5c1befbcf69be60cc7dc69"
  }
 },
 "nbformat": 4,
 "nbformat_minor": 2
}